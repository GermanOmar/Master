{
  "nbformat": 4,
  "nbformat_minor": 0,
  "metadata": {
    "colab": {
      "name": "LAFW-UTS.ipynb",
      "provenance": [],
      "collapsed_sections": [],
      "toc_visible": true,
      "authorship_tag": "ABX9TyMUrDpcurbXWMYtLY/+JCIb",
      "include_colab_link": true
    },
    "kernelspec": {
      "name": "python3",
      "display_name": "Python 3"
    }
  },
  "cells": [
    {
      "cell_type": "markdown",
      "metadata": {
        "id": "view-in-github",
        "colab_type": "text"
      },
      "source": [
        "<a href=\"https://colab.research.google.com/github/GermanOmar/Master/blob/master/LAFW_UTS.ipynb\" target=\"_parent\"><img src=\"https://colab.research.google.com/assets/colab-badge.svg\" alt=\"Open In Colab\"/></a>"
      ]
    },
    {
      "cell_type": "code",
      "metadata": {
        "id": "04q2zVli4FWv"
      },
      "source": [
        "import numpy as np\r\n",
        "import pandas as pd\r\n",
        "from matplotlib import pyplot as plt\r\n",
        "import math\r\n",
        "%matplotlib inline"
      ],
      "execution_count": 14,
      "outputs": []
    },
    {
      "cell_type": "markdown",
      "metadata": {
        "id": "h43AifpMwzq3"
      },
      "source": [
        "# Laser Rotary friction welding (LRFW)"
      ]
    },
    {
      "cell_type": "code",
      "metadata": {
        "colab": {
          "base_uri": "https://localhost:8080/",
          "height": 284
        },
        "id": "26uUI05O5T8f",
        "outputId": "645da396-dbd8-4481-9f5c-bf0bc4a53b3b"
      },
      "source": [
        "#Dataset\r\n",
        "RFW = pd.read_table('dfD.txt')\r\n",
        "RFW.describe()"
      ],
      "execution_count": 15,
      "outputs": [
        {
          "output_type": "execute_result",
          "data": {
            "text/html": [
              "<div>\n",
              "<style scoped>\n",
              "    .dataframe tbody tr th:only-of-type {\n",
              "        vertical-align: middle;\n",
              "    }\n",
              "\n",
              "    .dataframe tbody tr th {\n",
              "        vertical-align: top;\n",
              "    }\n",
              "\n",
              "    .dataframe thead th {\n",
              "        text-align: right;\n",
              "    }\n",
              "</style>\n",
              "<table border=\"1\" class=\"dataframe\">\n",
              "  <thead>\n",
              "    <tr style=\"text-align: right;\">\n",
              "      <th></th>\n",
              "      <th>D1</th>\n",
              "      <th>D2</th>\n",
              "      <th>D3</th>\n",
              "      <th>D4</th>\n",
              "      <th>D5</th>\n",
              "      <th>D6</th>\n",
              "      <th>D7</th>\n",
              "      <th>D8</th>\n",
              "      <th>D9</th>\n",
              "      <th>D10</th>\n",
              "      <th>D11</th>\n",
              "      <th>D12</th>\n",
              "    </tr>\n",
              "  </thead>\n",
              "  <tbody>\n",
              "    <tr>\n",
              "      <th>count</th>\n",
              "      <td>3.000000</td>\n",
              "      <td>3.000000</td>\n",
              "      <td>3.000000</td>\n",
              "      <td>3.000000</td>\n",
              "      <td>3.000000</td>\n",
              "      <td>3.000000</td>\n",
              "      <td>3.000000</td>\n",
              "      <td>3.000000</td>\n",
              "      <td>3.000000</td>\n",
              "      <td>3.000000</td>\n",
              "      <td>3.000000</td>\n",
              "      <td>3.000000</td>\n",
              "    </tr>\n",
              "    <tr>\n",
              "      <th>mean</th>\n",
              "      <td>127.066667</td>\n",
              "      <td>166.200000</td>\n",
              "      <td>203.700000</td>\n",
              "      <td>109.166667</td>\n",
              "      <td>145.200000</td>\n",
              "      <td>168.900000</td>\n",
              "      <td>96.450000</td>\n",
              "      <td>127.066667</td>\n",
              "      <td>184.466667</td>\n",
              "      <td>131.000000</td>\n",
              "      <td>186.303333</td>\n",
              "      <td>211.700000</td>\n",
              "    </tr>\n",
              "    <tr>\n",
              "      <th>std</th>\n",
              "      <td>15.892556</td>\n",
              "      <td>4.132796</td>\n",
              "      <td>5.802586</td>\n",
              "      <td>5.108163</td>\n",
              "      <td>4.371499</td>\n",
              "      <td>15.835719</td>\n",
              "      <td>4.470179</td>\n",
              "      <td>12.676882</td>\n",
              "      <td>8.854566</td>\n",
              "      <td>4.107311</td>\n",
              "      <td>4.550938</td>\n",
              "      <td>3.915354</td>\n",
              "    </tr>\n",
              "    <tr>\n",
              "      <th>min</th>\n",
              "      <td>109.400000</td>\n",
              "      <td>162.400000</td>\n",
              "      <td>200.300000</td>\n",
              "      <td>105.100000</td>\n",
              "      <td>140.300000</td>\n",
              "      <td>150.800000</td>\n",
              "      <td>91.400000</td>\n",
              "      <td>112.500000</td>\n",
              "      <td>175.100000</td>\n",
              "      <td>128.100000</td>\n",
              "      <td>181.700000</td>\n",
              "      <td>207.600000</td>\n",
              "    </tr>\n",
              "    <tr>\n",
              "      <th>25%</th>\n",
              "      <td>120.500000</td>\n",
              "      <td>164.000000</td>\n",
              "      <td>200.350000</td>\n",
              "      <td>106.300000</td>\n",
              "      <td>143.450000</td>\n",
              "      <td>163.250000</td>\n",
              "      <td>94.725000</td>\n",
              "      <td>122.800000</td>\n",
              "      <td>180.350000</td>\n",
              "      <td>128.650000</td>\n",
              "      <td>184.055000</td>\n",
              "      <td>209.850000</td>\n",
              "    </tr>\n",
              "    <tr>\n",
              "      <th>50%</th>\n",
              "      <td>131.600000</td>\n",
              "      <td>165.600000</td>\n",
              "      <td>200.400000</td>\n",
              "      <td>107.500000</td>\n",
              "      <td>146.600000</td>\n",
              "      <td>175.700000</td>\n",
              "      <td>98.050000</td>\n",
              "      <td>133.100000</td>\n",
              "      <td>185.600000</td>\n",
              "      <td>129.200000</td>\n",
              "      <td>186.410000</td>\n",
              "      <td>212.100000</td>\n",
              "    </tr>\n",
              "    <tr>\n",
              "      <th>75%</th>\n",
              "      <td>135.900000</td>\n",
              "      <td>168.100000</td>\n",
              "      <td>205.400000</td>\n",
              "      <td>111.200000</td>\n",
              "      <td>147.650000</td>\n",
              "      <td>177.950000</td>\n",
              "      <td>98.975000</td>\n",
              "      <td>134.350000</td>\n",
              "      <td>189.150000</td>\n",
              "      <td>132.450000</td>\n",
              "      <td>188.605000</td>\n",
              "      <td>213.750000</td>\n",
              "    </tr>\n",
              "    <tr>\n",
              "      <th>max</th>\n",
              "      <td>140.200000</td>\n",
              "      <td>170.600000</td>\n",
              "      <td>210.400000</td>\n",
              "      <td>114.900000</td>\n",
              "      <td>148.700000</td>\n",
              "      <td>180.200000</td>\n",
              "      <td>99.900000</td>\n",
              "      <td>135.600000</td>\n",
              "      <td>192.700000</td>\n",
              "      <td>135.700000</td>\n",
              "      <td>190.800000</td>\n",
              "      <td>215.400000</td>\n",
              "    </tr>\n",
              "  </tbody>\n",
              "</table>\n",
              "</div>"
            ],
            "text/plain": [
              "               D1          D2          D3  ...         D10         D11         D12\n",
              "count    3.000000    3.000000    3.000000  ...    3.000000    3.000000    3.000000\n",
              "mean   127.066667  166.200000  203.700000  ...  131.000000  186.303333  211.700000\n",
              "std     15.892556    4.132796    5.802586  ...    4.107311    4.550938    3.915354\n",
              "min    109.400000  162.400000  200.300000  ...  128.100000  181.700000  207.600000\n",
              "25%    120.500000  164.000000  200.350000  ...  128.650000  184.055000  209.850000\n",
              "50%    131.600000  165.600000  200.400000  ...  129.200000  186.410000  212.100000\n",
              "75%    135.900000  168.100000  205.400000  ...  132.450000  188.605000  213.750000\n",
              "max    140.200000  170.600000  210.400000  ...  135.700000  190.800000  215.400000\n",
              "\n",
              "[8 rows x 12 columns]"
            ]
          },
          "metadata": {
            "tags": []
          },
          "execution_count": 15
        }
      ]
    },
    {
      "cell_type": "code",
      "metadata": {
        "id": "PGzxLRZi5rUC"
      },
      "source": [
        "# Calculate the average\r\n",
        "fields = ['D1', 'D2','D3','D4','D5','D6', 'D7','D8','D9','D10','D11','D12']\r\n",
        "D1=np.asanyarray (RFW[['D1']])\r\n",
        "D2=np.asanyarray (RFW[['D2']])\r\n",
        "D3=np.asanyarray (RFW[['D3']])\r\n",
        "D4=np.asanyarray (RFW[['D4']])\r\n",
        "D5=np.asanyarray (RFW[['D5']])\r\n",
        "D6=np.asanyarray (RFW[['D6']])\r\n",
        "D7=np.asanyarray (RFW[['D7']])\r\n",
        "D8=np.asanyarray (RFW[['D8']])\r\n",
        "D9=np.asanyarray (RFW[['D9']])\r\n",
        "D10=np.asanyarray (RFW[['D10']])\r\n",
        "D11=np.asanyarray (RFW[['D11']])\r\n",
        "D12=np.asanyarray (RFW[['D12']])\r\n",
        "\r\n",
        "D1_mean = np.mean(D1)\r\n",
        "D2_mean = np.mean(D2)\r\n",
        "D3_mean = np.mean(D3)\r\n",
        "D4_mean = np.mean(D4)\r\n",
        "D5_mean = np.mean(D5)\r\n",
        "D6_mean = np.mean(D6)\r\n",
        "D7_mean = np.mean(D7)\r\n",
        "D8_mean = np.mean(D8)\r\n",
        "D9_mean = np.mean(D9)\r\n",
        "D10_mean = np.mean(D11)\r\n",
        "D11_mean = np.mean(D11)\r\n",
        "D12_mean = np.mean(D12)"
      ],
      "execution_count": 31,
      "outputs": []
    },
    {
      "cell_type": "code",
      "metadata": {
        "id": "qd__Onuu6Zpi"
      },
      "source": [
        "# Calculate the standard deviation\r\n",
        "D1_std = np.std(D1)\r\n",
        "D2_std = np.std(D2)\r\n",
        "D3_std = np.std(D3)\r\n",
        "D4_std = np.std(D4)\r\n",
        "D5_std = np.std(D5)\r\n",
        "D6_std = np.std(D6)\r\n",
        "D7_std = np.std(D7)\r\n",
        "D8_std = np.std(D8)\r\n",
        "D9_std = np.std(D9)\r\n",
        "D10_std = np.std(D10)\r\n",
        "D11_std = np.std(D11)\r\n",
        "D12_std = np.std(D12)"
      ],
      "execution_count": 32,
      "outputs": []
    },
    {
      "cell_type": "code",
      "metadata": {
        "id": "9kZvfBi67B50"
      },
      "source": [
        "# Create lists for the plot\r\n",
        "labels = ['D1', 'D2', 'D3','D4', 'D5', 'D6','D7', 'D8', 'D9','D10', 'D11', 'D12']\r\n",
        "x_pos = np.arange(len(labels))\r\n",
        "CTEs = [D1_mean, D2_mean, D3_mean, D4_mean, D5_mean, D6_mean, D7_mean, D8_mean, D9_mean, D10_mean, D11_mean, D12_mean]\r\n",
        "error = [D1_std, D2_std, D3_std, D4_std, D5_std, D6_std, D7_std, D8_std, D9_std, D10_std, D11_std, D12_std]"
      ],
      "execution_count": 33,
      "outputs": []
    },
    {
      "cell_type": "code",
      "metadata": {
        "colab": {
          "base_uri": "https://localhost:8080/",
          "height": 501
        },
        "id": "f89VHMBZ7hWI",
        "outputId": "ba46ec4d-86ff-4298-c2c6-eaf1fada5c28"
      },
      "source": [
        "# Build the plot\r\n",
        "import seaborn as sns\r\n",
        "sns.set()\r\n",
        "sns.set_theme(style=\"whitegrid\")\r\n",
        "#plt.rcParams[\"axes.grid\"] = False\r\n",
        "\r\n",
        "fig, ax = plt.subplots()\r\n",
        "fig.set_size_inches((11,8))\r\n",
        "ax.bar(x_pos, CTEs, yerr=error, align='center', alpha=1, ecolor='black', capsize=14, color='pink')\r\n",
        "ax.set_ylabel('UTS (MPa)')\r\n",
        "ax.set_xticks(x_pos)\r\n",
        "ax.set_xticklabels(labels)\r\n",
        "ax.set_title('UTS ranges for LAFW')\r\n",
        "#ax.yaxis.grid(True)\r\n",
        "plt.show()"
      ],
      "execution_count": 38,
      "outputs": [
        {
          "output_type": "display_data",
          "data": {
            "image/png": "[encoded data removed]",
            "text/plain": [
              "<Figure size 792x576 with 1 Axes>"
            ]
          },
          "metadata": {
            "tags": []
          }
        }
      ]
    },
    {
      "cell_type": "markdown",
      "metadata": {
        "id": "XwU4CJYPyPa1"
      },
      "source": [
        "Boxplots"
      ]
    },
    {
      "cell_type": "code",
      "metadata": {
        "colab": {
          "base_uri": "https://localhost:8080/",
          "height": 408
        },
        "id": "IlJWKv00ySAB",
        "outputId": "9015a736-c4ad-4d48-9fb9-e37b2c699820"
      },
      "source": [
        "import seaborn as sns\r\n",
        "sns.set()\r\n",
        "\r\n",
        "LAFW=pd.read_table('LRFW1.txt')\r\n",
        "FW=pd.read_table('LRFW2.txt')\r\n",
        "sns.set_theme(style=\"whitegrid\")\r\n",
        "#plt.rcParams[\"axes.grid\"] = False\r\n",
        "\r\n",
        "data2=np.asanyarray (LAFW)\r\n",
        "data1=np.asanyarray (FW)\r\n",
        "data = [data1, data2]\r\n",
        "labels = ['RFW', 'LAFW']\r\n",
        "\r\n",
        "fig = plt.figure(figsize =(6, 4)) \r\n",
        "  \r\n",
        "# Creating axes instance \r\n",
        "ax = fig.add_axes([0, 0, 1, 1]) \r\n",
        "ax.set_ylabel('UTS (MPa)')  \r\n",
        "# x-axis labels \r\n",
        "#ax.set_xticklabels(['RFW', 'LAFW']) \r\n",
        "ax.set_title('Boxplots of UTS for: RFW - LAFW')\r\n",
        "\r\n",
        "# Creating plot \r\n",
        "bp = ax.boxplot(data, \r\n",
        "                         vert=True,  # vertical box alignment\r\n",
        "                         patch_artist=True,  # fill with color\r\n",
        "                         labels=labels) \r\n",
        "\r\n",
        "colors = ['lightblue',  'pink']\r\n",
        " \r\n",
        "for patch, color in zip(bp['boxes'], colors):\r\n",
        "    patch.set_facecolor(color)\r\n",
        " \r\n",
        "plt.show()\r\n"
      ],
      "execution_count": 20,
      "outputs": [
        {
          "output_type": "stream",
          "text": [
            "/usr/local/lib/python3.6/dist-packages/numpy/core/_asarray.py:83: VisibleDeprecationWarning: Creating an ndarray from ragged nested sequences (which is a list-or-tuple of lists-or-tuples-or ndarrays with different lengths or shapes) is deprecated. If you meant to do this, you must specify 'dtype=object' when creating the ndarray\n",
            "  return array(a, dtype, copy=False, order=order)\n"
          ],
          "name": "stderr"
        },
        {
          "output_type": "display_data",
          "data": {
            "image/png": "[encoded data removed]",
            "text/plain": [
              "<Figure size 432x288 with 1 Axes>"
            ]
          },
          "metadata": {
            "tags": []
          }
        }
      ]
    },
    {
      "cell_type": "markdown",
      "metadata": {
        "id": "m-w4eG2wxFbm"
      },
      "source": [
        "# Rotary friction welding (RFW)"
      ]
    },
    {
      "cell_type": "code",
      "metadata": {
        "colab": {
          "base_uri": "https://localhost:8080/",
          "height": 284
        },
        "id": "fypq9d-3CPQu",
        "outputId": "06516ad0-d043-4255-f733-31184b85f1ae"
      },
      "source": [
        "#Dataset\r\n",
        "RFW2 = pd.read_table('dfT.txt')\r\n",
        "RFW2.describe()"
      ],
      "execution_count": 21,
      "outputs": [
        {
          "output_type": "execute_result",
          "data": {
            "text/html": [
              "<div>\n",
              "<style scoped>\n",
              "    .dataframe tbody tr th:only-of-type {\n",
              "        vertical-align: middle;\n",
              "    }\n",
              "\n",
              "    .dataframe tbody tr th {\n",
              "        vertical-align: top;\n",
              "    }\n",
              "\n",
              "    .dataframe thead th {\n",
              "        text-align: right;\n",
              "    }\n",
              "</style>\n",
              "<table border=\"1\" class=\"dataframe\">\n",
              "  <thead>\n",
              "    <tr style=\"text-align: right;\">\n",
              "      <th></th>\n",
              "      <th>T1</th>\n",
              "      <th>T2</th>\n",
              "      <th>T3</th>\n",
              "      <th>T4</th>\n",
              "    </tr>\n",
              "  </thead>\n",
              "  <tbody>\n",
              "    <tr>\n",
              "      <th>count</th>\n",
              "      <td>3.000000</td>\n",
              "      <td>3.00000</td>\n",
              "      <td>3.000000</td>\n",
              "      <td>3.000000</td>\n",
              "    </tr>\n",
              "    <tr>\n",
              "      <th>mean</th>\n",
              "      <td>164.566667</td>\n",
              "      <td>64.00000</td>\n",
              "      <td>172.133333</td>\n",
              "      <td>112.166667</td>\n",
              "    </tr>\n",
              "    <tr>\n",
              "      <th>std</th>\n",
              "      <td>5.822657</td>\n",
              "      <td>6.15061</td>\n",
              "      <td>3.295957</td>\n",
              "      <td>5.468394</td>\n",
              "    </tr>\n",
              "    <tr>\n",
              "      <th>min</th>\n",
              "      <td>160.300000</td>\n",
              "      <td>60.30000</td>\n",
              "      <td>169.200000</td>\n",
              "      <td>107.800000</td>\n",
              "    </tr>\n",
              "    <tr>\n",
              "      <th>25%</th>\n",
              "      <td>161.250000</td>\n",
              "      <td>60.45000</td>\n",
              "      <td>170.350000</td>\n",
              "      <td>109.100000</td>\n",
              "    </tr>\n",
              "    <tr>\n",
              "      <th>50%</th>\n",
              "      <td>162.200000</td>\n",
              "      <td>60.60000</td>\n",
              "      <td>171.500000</td>\n",
              "      <td>110.400000</td>\n",
              "    </tr>\n",
              "    <tr>\n",
              "      <th>75%</th>\n",
              "      <td>166.700000</td>\n",
              "      <td>65.85000</td>\n",
              "      <td>173.600000</td>\n",
              "      <td>114.350000</td>\n",
              "    </tr>\n",
              "    <tr>\n",
              "      <th>max</th>\n",
              "      <td>171.200000</td>\n",
              "      <td>71.10000</td>\n",
              "      <td>175.700000</td>\n",
              "      <td>118.300000</td>\n",
              "    </tr>\n",
              "  </tbody>\n",
              "</table>\n",
              "</div>"
            ],
            "text/plain": [
              "               T1        T2          T3          T4\n",
              "count    3.000000   3.00000    3.000000    3.000000\n",
              "mean   164.566667  64.00000  172.133333  112.166667\n",
              "std      5.822657   6.15061    3.295957    5.468394\n",
              "min    160.300000  60.30000  169.200000  107.800000\n",
              "25%    161.250000  60.45000  170.350000  109.100000\n",
              "50%    162.200000  60.60000  171.500000  110.400000\n",
              "75%    166.700000  65.85000  173.600000  114.350000\n",
              "max    171.200000  71.10000  175.700000  118.300000"
            ]
          },
          "metadata": {
            "tags": []
          },
          "execution_count": 21
        }
      ]
    },
    {
      "cell_type": "code",
      "metadata": {
        "id": "HYhYMvofCPQ2"
      },
      "source": [
        "# Calculate the average\r\n",
        "fields = ['T1', 'T2','T3','T4']\r\n",
        "T1=np.asanyarray (RFW2[['T1']])\r\n",
        "T2=np.asanyarray (RFW2[['T2']])\r\n",
        "T3=np.asanyarray (RFW2[['T3']])\r\n",
        "T4=np.asanyarray (RFW2[['T4']])\r\n",
        "\r\n",
        "\r\n",
        "T1_mean = np.mean(T1)\r\n",
        "T2_mean = np.mean(T2)\r\n",
        "T3_mean = np.mean(T3)\r\n",
        "T4_mean = np.mean(T4)\r\n"
      ],
      "execution_count": 39,
      "outputs": []
    },
    {
      "cell_type": "code",
      "metadata": {
        "id": "M44P3m6-CPQ3"
      },
      "source": [
        "# Calculate the standard deviation\r\n",
        "T1_std = np.std(T1)\r\n",
        "T2_std = np.std(T2)\r\n",
        "T3_std = np.std(T3)\r\n",
        "T4_std = np.std(T4)\r\n"
      ],
      "execution_count": 40,
      "outputs": []
    },
    {
      "cell_type": "code",
      "metadata": {
        "id": "QUetAlx1CPQ4"
      },
      "source": [
        "# Create lists for the plot\r\n",
        "labels = ['T1', 'T2', 'T3','T4']\r\n",
        "x_pos = np.arange(len(labels))\r\n",
        "CTEs = [T1_mean, T2_mean, T3_mean, T4_mean]\r\n",
        "error = [T1_std, T2_std, T3_std, T4_std]"
      ],
      "execution_count": 41,
      "outputs": []
    },
    {
      "cell_type": "code",
      "metadata": {
        "colab": {
          "base_uri": "https://localhost:8080/",
          "height": 501
        },
        "id": "wXVVB8yKCPQ4",
        "outputId": "018fe830-f86b-4411-cc8d-8fcfa4a29b42"
      },
      "source": [
        "# Build the plot\r\n",
        "import seaborn as sns\r\n",
        "sns.set()\r\n",
        "sns.set_theme(style=\"whitegrid\")\r\n",
        "#plt.rcParams[\"axes.grid\"] = False\r\n",
        "\r\n",
        "fig, ax = plt.subplots()\r\n",
        "fig.set_size_inches((11,8))\r\n",
        "ax.bar(x_pos, CTEs, yerr=error, align='center', alpha=0.9, ecolor='black', capsize=16, color='lightblue')\r\n",
        "ax.set_ylabel('UTS (MPa)')\r\n",
        "ax.set_xticks(x_pos)\r\n",
        "ax.set_xticklabels(labels)\r\n",
        "ax.set_title('UTS ranges for RFW')\r\n",
        "#ax.yaxis.grid(True)\r\n",
        "plt.show()"
      ],
      "execution_count": 42,
      "outputs": [
        {
          "output_type": "display_data",
          "data": {
            "image/png": "[encoded data removed]",
            "text/plain": [
              "<Figure size 792x576 with 1 Axes>"
            ]
          },
          "metadata": {
            "tags": []
          }
        }
      ]
    },
    {
      "cell_type": "code",
      "metadata": {
        "colab": {
          "base_uri": "https://localhost:8080/",
          "height": 408
        },
        "id": "fveSp_Tq907K",
        "outputId": "fb66dd0a-79aa-4226-e149-1bd7e437eac2"
      },
      "source": [
        "import seaborn as sns\r\n",
        "sns.set()\r\n",
        "\r\n",
        "HV1=pd.read_table('HV1.txt')\r\n",
        "HV2=pd.read_table('HV2.txt')\r\n",
        "sns.set_theme(style=\"whitegrid\")\r\n",
        "#plt.rcParams[\"axes.grid\"] = False\r\n",
        "\r\n",
        "data1=np.asanyarray (HV1)\r\n",
        "data2=np.asanyarray (HV2)\r\n",
        "data = [data1, data2]\r\n",
        "labels = ['RFW', 'LAFW']\r\n",
        "\r\n",
        "fig = plt.figure(figsize =(6, 4)) \r\n",
        "  \r\n",
        "# Creating axes instance \r\n",
        "ax = fig.add_axes([0, 0, 1, 1]) \r\n",
        "ax.set_ylabel('Hardness (HV)')  \r\n",
        "# x-axis labels \r\n",
        "#ax.set_xticklabels(['RFW', 'LAFW']) \r\n",
        "ax.set_title('Boxplots of Hardness for: RFW - LAFW')\r\n",
        "\r\n",
        "# Creating plot \r\n",
        "bp = ax.boxplot(data, \r\n",
        "                         vert=True,  # vertical box alignment\r\n",
        "                         patch_artist=True,  # fill with color\r\n",
        "                         labels=labels) \r\n",
        "\r\n",
        "colors = ['lightblue',  'pink']\r\n",
        " \r\n",
        "for patch, color in zip(bp['boxes'], colors):\r\n",
        "    patch.set_facecolor(color)\r\n",
        " \r\n",
        "plt.show()\r\n",
        "\r\n",
        "\r\n",
        " \r\n"
      ],
      "execution_count": 26,
      "outputs": [
        {
          "output_type": "stream",
          "text": [
            "/usr/local/lib/python3.6/dist-packages/numpy/core/_asarray.py:83: VisibleDeprecationWarning: Creating an ndarray from ragged nested sequences (which is a list-or-tuple of lists-or-tuples-or ndarrays with different lengths or shapes) is deprecated. If you meant to do this, you must specify 'dtype=object' when creating the ndarray\n",
            "  return array(a, dtype, copy=False, order=order)\n"
          ],
          "name": "stderr"
        },
        {
          "output_type": "display_data",
          "data": {
            "image/png": "[encoded data removed]",
            "text/plain": [
              "<Figure size 432x288 with 1 Axes>"
            ]
          },
          "metadata": {
            "tags": []
          }
        }
      ]
    },
    {
      "cell_type": "code",
      "metadata": {
        "id": "eqRWb4t7pFMo"
      },
      "source": [
        ""
      ],
      "execution_count": 26,
      "outputs": []
    }
  ]
}